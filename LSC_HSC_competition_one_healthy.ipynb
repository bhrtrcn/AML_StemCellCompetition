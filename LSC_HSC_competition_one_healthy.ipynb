{
 "cells": [
  {
   "cell_type": "code",
   "execution_count": 2,
   "id": "44f6cba9-5ef5-4cab-88c3-9ed52563eb32",
   "metadata": {},
   "outputs": [],
   "source": [
    "import numpy as np\n",
    "import tellurium as te\n",
    "import scipy\n",
    "import pandas as pd"
   ]
  },
  {
   "cell_type": "code",
   "execution_count": 3,
   "id": "6689d73e-4dcd-49c8-8aaa-2343da0d7132",
   "metadata": {},
   "outputs": [],
   "source": [
    "model_desc = \"\"\"\n",
    "species $c1; species $l1; species $c4; species $l4; species $c2;\n",
    "\n",
    "c1'=(1-(1-(K-c1-l1)/K-qH*l1/K)^n_hat)*p1_c*c1-(1-(1-(K-c1-l1)/K-qL*c1/K)^n_hat)*c1*qL*p1_l*l1/(K-l1-c1+qL*c1);\n",
    "l1'=(1-(1-(K-c1-l1)/K-qL*c1/K)^n_hat)*p1_l*l1-(1-(1-(K-c1-l1)/K-qH*l1/K)^n_hat)*l1*qH*p1_c*c1/(K-l1-c1+qH*l1);\n",
    "\n",
    "v1_l:=((1-(K-c1-l1)/K-qL*c1/K)^n_hat)*p1_l*l1 +(1-(1-(K-c1-l1)/K-qH*l1/K)^n_hat)*l1*qH*p1_c*c1/(K-l1-c1+qH*l1);\n",
    "v1_c:=((1-(K-c1-l1)/K-qH*l1/K)^n_hat)*p1_c*c1 +(1-(1-(K-c1-l1)/K-qL*c1/K)^n_hat)*c1*qL*p1_l*l1/(K-l1-c1+qL*c1);\n",
    "\n",
    "s:=1/(1+k_hat*c4)\n",
    "\n",
    "a1_c:=a1_c_base*s\n",
    "a2_c:=a2_c_base*s\n",
    "a3_c:=a3_c_base*s\n",
    "p1_c:=p1_c_base*s\n",
    "p2_c:=p2_c_base*s\n",
    "\n",
    "//c1+l1<K  //this is constraint\n",
    "\n",
    "// initial l is 1 per kg of body weight\n",
    "l1=4*(10^6)*bw \n",
    "l4=0 \n",
    "\n",
    "// see figure 2D - minimum qL is 0.995\n",
    "qH=0.005\n",
    " //this is to be estimated, giving a value arbitrarily\n",
    "qL=0.995 // 1-ql=qh\n",
    "\n",
    "bw=80\n",
    "p1_l=15.2*10^(-3)\n",
    "p3_l=0.69\n",
    "p2_l=0.4\n",
    "\n",
    "a1_l=1 // no info for cancer, I used the same with healthy\n",
    "a2_l=0.57303 //no info for cancer, I used the same with healthy\n",
    "a3_l=0.73994 //no info for cancer, I used the same with healthy\n",
    "d4_l=0.01 //no info for cancer, I used the same with healthy\n",
    "// the parameters from the supplementary document\n",
    "\n",
    "#c4=3.1*(10^11)*bw  \n",
    "\n",
    "c1=5.8*(10^6)*bw \n",
    "c2_initial=2.5*(10^7)*bw\n",
    "c3_initial = 3.1*(10^11)*bw;\n",
    "\n",
    "p1_c_base=15.2*10^(-3)\n",
    "p3_c=0.69\n",
    "p2_c_base=0.4\n",
    "k_hat=9.677*10^(-12) //this is khat need to understand the difference\n",
    "#K=9.8*(10^6)*bw  //assuming all cells are healthy in the beginning\n",
    "K=c1+l1\n",
    "n1=30\n",
    "n2=20\n",
    "n_hat=10\n",
    "a1_c_base=1\n",
    "a2_c_base=0.57303\n",
    "a3_c_base=0.73994\n",
    "//k=2.9222*10^(-13)\n",
    "d4_c=0.01\n",
    "\n",
    "   \n",
    "\"\"\"\n",
    "n1=30\n",
    "n2=20\n",
    "progenitor_sum_string1 = f\"v2_l := 2*p2_l*l2_{n1} + 2*(1-a2_l)*p2_l*(\"\n",
    "progenitor_sum_string2 = f\"v2_c := 2*p2_c*c2_{n1} + 2*(1-a2_c)*p2_c*(\"\n",
    "for i in range(n1+1):\n",
    "    if i == 0:\n",
    "        model_desc += \"l2_0' = v1_l - p2_l*l2_0;\\n\"\n",
    "        model_desc += \"c2_0' = v1_c - p2_c*c2_0;\\n\"\n",
    "        progenitor_sum_string1 += \"l2_0\"\n",
    "        progenitor_sum_string2 += \"c2_0\"\n",
    "    else:\n",
    "        model_desc += f\"l2_{i}' = 2*a2_l*p2_l*l2_{i-1} - p2_l*l2_{i};\\n\"\n",
    "        model_desc += f\"c2_{i}' = 2*a2_c*p2_c*c2_{i-1} - p2_c*c2_{i};\\n\"\n",
    "        if i < n1:\n",
    "            progenitor_sum_string1 += f\"+ l2_{i}\"\n",
    "            progenitor_sum_string2 += f\"+ c2_{i}\"\n",
    "\n",
    "progenitor_sum_string1 += \");\\n\"\n",
    "progenitor_sum_string2 += \");\\n\"\n",
    "\n",
    "precursor_sum_string1 = f\"v3_l := 2*p3_l*l3_{n2} + 2*(1-a3_l)*p3_l*(\"\n",
    "precursor_sum_string2 = f\"v3_c := 2*p3_c*c3_{n2} + 2*(1-a3_c)*p3_c*(\"\n",
    "\n",
    "\n",
    "for i in range(n2+1):\n",
    "    if i == 0:\n",
    "        model_desc += \"l3_0' = v2_l - p3_l*l3_0;\\n\"\n",
    "        model_desc += \"c3_0' = v2_c - p3_c*c3_0;\\n\"\n",
    "        precursor_sum_string1 += \"l3_0\"\n",
    "        precursor_sum_string2 += \"c3_0\"\n",
    "    else:\n",
    "        model_desc += f\"l3_{i}' = 2*a3_l*p3_l*l3_{i-1} - p3_l*l3_{i};\\n\"\n",
    "        model_desc += f\"c3_{i}' = 2*a3_c*p3_c*c3_{i-1} - p3_c*c3_{i};\\n\"\n",
    "        if i < n2:\n",
    "            precursor_sum_string1 += f\"+ l3_{i}\"\n",
    "            precursor_sum_string2 += f\"+ c3_{i}\"\n",
    "\n",
    "precursor_sum_string1 += \");\\n\"\n",
    "precursor_sum_string2+= \");\\n\"\n",
    "\n",
    "post_mitotic1=\"l4' = v3_l - d4_l*l4;\\n\"\n",
    "post_mitotic2=\"c4' = v3_c - d4_c*c4;\\n\"\n",
    "\n",
    "model_desc += progenitor_sum_string1\n",
    "model_desc += progenitor_sum_string2\n",
    "\n",
    "model_desc += precursor_sum_string1\n",
    "model_desc += precursor_sum_string2\n",
    "\n",
    "model_desc += post_mitotic1\n",
    "model_desc += post_mitotic2\n",
    "\n",
    "\n",
    "c2_str=\"c2:=\"\n",
    "c3_str=\"c3:=\"\n",
    "\n",
    "l2_str=\"l2:=\"\n",
    "l3_str=\"l3:=\"\n",
    "\n",
    "\n",
    "for i in range(n1+1):\n",
    "    model_desc+=f\"species $l2_{i};\\n\"\n",
    "    model_desc+=f\"l2_{i}=0;\\n\" \n",
    "    model_desc+=f\"species $c2_{i};\\n\"\n",
    "    model_desc+=f\"c2_{i}=c2_initial/{n1+1};\\n\" \n",
    "\n",
    "\n",
    "    if i==0:\n",
    "        c2_str+=f\"c2_{i}\"\n",
    "        l2_str+=f\"l2_{i}\"\n",
    "    else:\n",
    "        c2_str+=f\"+c2_{i}\"\n",
    "        l2_str+=f\"+l2_{i}\"\n",
    "\n",
    "c2_str=c2_str +\";\\n\"\n",
    "l2_str=l2_str +\";\\n\"\n",
    "\n",
    "for i in range(n2+1):\n",
    "    model_desc+=f\"species $l3_{i};\\n\"\n",
    "    model_desc+=f\"l3_{i}=0;\\n\" \n",
    "    model_desc+=f\"species $c3_{i};\\n\"\n",
    "    model_desc+=f\"c3_{i}=c3_initial/{n2+1};\\n\"\n",
    "\n",
    "    if i==0:\n",
    "        c3_str+=f\"c3_{i}\"\n",
    "        l3_str+=f\"l3_{i}\"\n",
    "\n",
    "    else:\n",
    "        c3_str+=f\"+c3_{i}\"\n",
    "        l3_str+=f\"+l3_{i}\"\n",
    "\n",
    "\n",
    "c3_str=c3_str +\";\\n\"\n",
    "l3_str=l3_str +\";\\n\"\n",
    "     \n",
    "model_desc+=c2_str \n",
    "model_desc+=c3_str \n",
    "     \n",
    "model_desc+=l2_str \n",
    "model_desc+=l3_str \n",
    "model_desc+=\"blast:=l1+l2+l3+l4;\\n\"\n",
    "model_desc += 'blast_percentage := (l1+l2+l3+l4)/(l1+l2+l3+l4+c1+c2+c3+c4);\\n'\n",
    "\n",
    "\n",
    "#=for i in range(n1+1):\n",
    "    \n",
    "\n",
    "r = te.loada(model_desc)"
   ]
  },
  {
   "cell_type": "code",
   "execution_count": 4,
   "id": "5346461d-9cad-483c-be69-44be328921c0",
   "metadata": {},
   "outputs": [],
   "source": [
    "blood_counts = pd.read_excel('~/Desktop/AML_Helsinki_Data/Ven_blood_counts_16042023.xlsx', sheet_name='Blood_counts')\n",
    "bm_blasts = pd.read_excel('~/Desktop/AML_Helsinki_Data/Ven_blood_counts_16042023.xlsx', sheet_name='Bone_marrow_blasts')\n",
    "#cycle_days = pd.read_excel('~/Desktop/AML_Helsinki_Data/Ven_blood_counts_16042023.xlsx', sheet_name='Cycle_days')\n",
    "#patient_data = pd.read_excel('~/Desktop/AML_Helsinki_Data/ven_responses_052023_open.xlsx')"
   ]
  },
  {
   "cell_type": "code",
   "execution_count": 5,
   "id": "d60d20eb-6b50-4eea-8e9d-f90e8e3154cc",
   "metadata": {},
   "outputs": [],
   "source": [
    "blast_perc=bm_blasts.loc[bm_blasts[\"Event\"]==\"screening\",[\"Pseudonym\",\"bm_blasts\"]]"
   ]
  },
  {
   "cell_type": "code",
   "execution_count": 7,
   "id": "f4a4f312-2238-430a-a1c3-26727508951f",
   "metadata": {},
   "outputs": [],
   "source": [
    "healthy_counts=blood_counts.loc[(blood_counts[\"Event\"] ==\"screening\")& (blood_counts[\"Form\"]==\"lab_results\"),  [\"Pseudonym\",\"b_neut\", \"b_eryt\",\t\"b_trom\" ]]"
   ]
  },
  {
   "cell_type": "code",
   "execution_count": 8,
   "id": "1ca9790e-da0a-42fc-852c-f642c5df2cc5",
   "metadata": {},
   "outputs": [],
   "source": [
    "healthy_counts[\"b_eryt\"]=healthy_counts[\"b_eryt\"] *1000"
   ]
  },
  {
   "cell_type": "code",
   "execution_count": 10,
   "id": "3f930c00-53e5-4652-bc3c-373ed4fdc15a",
   "metadata": {},
   "outputs": [],
   "source": [
    "healthy_counts['healthy_sum']=healthy_counts[\"b_neut\"] + healthy_counts[\"b_eryt\"] + healthy_counts[\"b_trom\"]"
   ]
  },
  {
   "cell_type": "code",
   "execution_count": 11,
   "id": "27d8bf65-2f09-48c6-869e-956a171bf152",
   "metadata": {},
   "outputs": [],
   "source": [
    "patient_data=pd.merge(healthy_counts, blast_perc, on=\"Pseudonym\", how=\"inner\")"
   ]
  },
  {
   "cell_type": "code",
   "execution_count": 18,
   "id": "7d76625a-81ee-47a4-942a-5c112dbc8d72",
   "metadata": {},
   "outputs": [
    {
     "data": {
      "text/html": [
       "<div>\n",
       "<style scoped>\n",
       "    .dataframe tbody tr th:only-of-type {\n",
       "        vertical-align: middle;\n",
       "    }\n",
       "\n",
       "    .dataframe tbody tr th {\n",
       "        vertical-align: top;\n",
       "    }\n",
       "\n",
       "    .dataframe thead th {\n",
       "        text-align: right;\n",
       "    }\n",
       "</style>\n",
       "<table border=\"1\" class=\"dataframe\">\n",
       "  <thead>\n",
       "    <tr style=\"text-align: right;\">\n",
       "      <th></th>\n",
       "      <th>Pseudonym</th>\n",
       "      <th>b_neut</th>\n",
       "      <th>b_eryt</th>\n",
       "      <th>b_trom</th>\n",
       "      <th>healthy_sum</th>\n",
       "      <th>bm_blasts</th>\n",
       "    </tr>\n",
       "  </thead>\n",
       "  <tbody>\n",
       "    <tr>\n",
       "      <th>0</th>\n",
       "      <td>8013</td>\n",
       "      <td>0.04</td>\n",
       "      <td>2750.0</td>\n",
       "      <td>35.0</td>\n",
       "      <td>2785.04</td>\n",
       "      <td>77.0</td>\n",
       "    </tr>\n",
       "    <tr>\n",
       "      <th>1</th>\n",
       "      <td>3028</td>\n",
       "      <td>2.30</td>\n",
       "      <td>2340.0</td>\n",
       "      <td>201.0</td>\n",
       "      <td>2543.30</td>\n",
       "      <td>35.0</td>\n",
       "    </tr>\n",
       "    <tr>\n",
       "      <th>2</th>\n",
       "      <td>1034</td>\n",
       "      <td>1.27</td>\n",
       "      <td>2820.0</td>\n",
       "      <td>127.0</td>\n",
       "      <td>2948.27</td>\n",
       "      <td>48.0</td>\n",
       "    </tr>\n",
       "    <tr>\n",
       "      <th>3</th>\n",
       "      <td>4046</td>\n",
       "      <td>0.20</td>\n",
       "      <td>3000.0</td>\n",
       "      <td>43.0</td>\n",
       "      <td>3043.20</td>\n",
       "      <td>46.0</td>\n",
       "    </tr>\n",
       "    <tr>\n",
       "      <th>4</th>\n",
       "      <td>5055</td>\n",
       "      <td>1.79</td>\n",
       "      <td>3300.0</td>\n",
       "      <td>45.0</td>\n",
       "      <td>3346.79</td>\n",
       "      <td>19.0</td>\n",
       "    </tr>\n",
       "    <tr>\n",
       "      <th>...</th>\n",
       "      <td>...</td>\n",
       "      <td>...</td>\n",
       "      <td>...</td>\n",
       "      <td>...</td>\n",
       "      <td>...</td>\n",
       "      <td>...</td>\n",
       "    </tr>\n",
       "    <tr>\n",
       "      <th>96</th>\n",
       "      <td>2104</td>\n",
       "      <td>0.31</td>\n",
       "      <td>3160.0</td>\n",
       "      <td>120.0</td>\n",
       "      <td>3280.31</td>\n",
       "      <td>21.0</td>\n",
       "    </tr>\n",
       "    <tr>\n",
       "      <th>97</th>\n",
       "      <td>8106</td>\n",
       "      <td>0.14</td>\n",
       "      <td>3630.0</td>\n",
       "      <td>34.0</td>\n",
       "      <td>3664.14</td>\n",
       "      <td>30.0</td>\n",
       "    </tr>\n",
       "    <tr>\n",
       "      <th>98</th>\n",
       "      <td>9109</td>\n",
       "      <td>0.19</td>\n",
       "      <td>3000.0</td>\n",
       "      <td>117.0</td>\n",
       "      <td>3117.19</td>\n",
       "      <td>80.0</td>\n",
       "    </tr>\n",
       "    <tr>\n",
       "      <th>99</th>\n",
       "      <td>3110</td>\n",
       "      <td>0.08</td>\n",
       "      <td>2920.0</td>\n",
       "      <td>77.0</td>\n",
       "      <td>2997.08</td>\n",
       "      <td>72.0</td>\n",
       "    </tr>\n",
       "    <tr>\n",
       "      <th>100</th>\n",
       "      <td>2111</td>\n",
       "      <td>0.16</td>\n",
       "      <td>3570.0</td>\n",
       "      <td>89.0</td>\n",
       "      <td>3659.16</td>\n",
       "      <td>30.0</td>\n",
       "    </tr>\n",
       "  </tbody>\n",
       "</table>\n",
       "<p>101 rows × 6 columns</p>\n",
       "</div>"
      ],
      "text/plain": [
       "     Pseudonym  b_neut  b_eryt  b_trom  healthy_sum  bm_blasts\n",
       "0         8013    0.04  2750.0    35.0      2785.04       77.0\n",
       "1         3028    2.30  2340.0   201.0      2543.30       35.0\n",
       "2         1034    1.27  2820.0   127.0      2948.27       48.0\n",
       "3         4046    0.20  3000.0    43.0      3043.20       46.0\n",
       "4         5055    1.79  3300.0    45.0      3346.79       19.0\n",
       "..         ...     ...     ...     ...          ...        ...\n",
       "96        2104    0.31  3160.0   120.0      3280.31       21.0\n",
       "97        8106    0.14  3630.0    34.0      3664.14       30.0\n",
       "98        9109    0.19  3000.0   117.0      3117.19       80.0\n",
       "99        3110    0.08  2920.0    77.0      2997.08       72.0\n",
       "100       2111    0.16  3570.0    89.0      3659.16       30.0\n",
       "\n",
       "[101 rows x 6 columns]"
      ]
     },
     "execution_count": 18,
     "metadata": {},
     "output_type": "execute_result"
    }
   ],
   "source": [
    "patient_data"
   ]
  },
  {
   "cell_type": "code",
   "execution_count": 20,
   "id": "9b3f49c2-9c99-4063-9b06-a248cf857b4b",
   "metadata": {},
   "outputs": [],
   "source": [
    "def run_parameter_scan(patient_id, initial_blast_percentage, initial_healthy_cells):\n",
    "    \n",
    "    \"\"\"\n",
    "    Args:\n",
    "        initial_blast_percentage: between 0 and 1\n",
    "        initial_healthy_cells: same units as in venex data\n",
    "    \"\"\"\n",
    "    result = None\n",
    "    results=pd.DataFrame(columns=[\"Parameter\", \"Value\", \"MinError\"])\n",
    "    healthy_cells_count = initial_healthy_cells*10**9*5\n",
    "    if initial_blast_percentage > 1:\n",
    "        initial_blast_percentage = initial_blast_percentage/100\n",
    "    model = te.loada(model_desc)\n",
    "    model.resetToOrigin()\n",
    "    qL_values = np.linspace(0, 0.9999, 101)\n",
    "    for qL in qL_values:\n",
    "        sum_error_ql=[]\n",
    "        if qL == 0:\n",
    "            continue\n",
    "        model.resetToOrigin()\n",
    "        model.setValue('qL', qL)\n",
    "        model.setValue('qH', 1-qL)\n",
    "        result = model.simulate(0, 1000, 1000, selections=['time', 'blast_percentage', 'c4'])\n",
    "        # testing if the parameter works\n",
    "        for i in range(len(result)):\n",
    "           sum_error_ql.append(np.abs(result['blast_percentage'][i] - initial_blast_percentage)/ initial_blast_percentage+\\\n",
    "            np.abs(result['c4'][i] - healthy_cells_count)/healthy_cells_count)\n",
    "        tm=pd.DataFrame({'PatientID':patient_id,'Parameter':'qL','Value':qL, 'MinError':min(sum_error_ql)},index=[0])\n",
    "        results=pd.concat([results,tm], ignore_index=True)\n",
    "    # step 3: parameter sweep for p1_l\n",
    "    print('Patient is not compatible with p1_l = p1_c, setting qL to 0.9999 and finding p1_l')\n",
    "    p1_l_values = np.linspace(0.0, 0.9999, 101)\n",
    "    for p1_l in p1_l_values:\n",
    "        sum_error_p1_l=[]\n",
    "        if p1_l == 0:\n",
    "            continue\n",
    "        model.resetToOrigin()\n",
    "        model.setValue('qL', 0.9999)\n",
    "        model.setValue('qH', 1-qL)\n",
    "        model.setValue('p1_l', p1_l)\n",
    "        result = model.simulate(0, 1000, 1000, selections=['time', 'blast_percentage', 'c4'])\n",
    "\n",
    "        for i in range(len(result)):\n",
    "            sum_error_p1_l.append(np.abs(result['blast_percentage'][i] - initial_blast_percentage)/ initial_blast_percentage+\\\n",
    "            np.abs(result['c4'][i] - healthy_cells_count)/healthy_cells_count)\n",
    "        tm=pd.DataFrame({'PatientID':patient_id,'Parameter':'p1_l','Value':p1_l, 'MinError':  min(sum_error_p1_l)}, index=[0])\n",
    "        results=pd.concat([results,tm], ignore_index=True)\n",
    "\n",
    "    return results"
   ]
  },
  {
   "cell_type": "code",
   "execution_count": 22,
   "id": "fce37419-c712-452a-a537-a7356233cf97",
   "metadata": {},
   "outputs": [],
   "source": [
    "patient_ids=patient_data[\"Pseudonym\"].unique()"
   ]
  },
  {
   "cell_type": "code",
   "execution_count": 206,
   "id": "3b61d12d-87b9-428f-8959-839ac785974b",
   "metadata": {},
   "outputs": [
    {
     "data": {
      "text/plain": [
       "2111"
      ]
     },
     "execution_count": 206,
     "metadata": {},
     "output_type": "execute_result"
    }
   ],
   "source": [
    "patient_id= round(pp['Pseudonym']);\n",
    "patient_id"
   ]
  },
  {
   "cell_type": "code",
   "execution_count": 154,
   "id": "291157ec-9719-4080-9f28-77815fec98e1",
   "metadata": {},
   "outputs": [
    {
     "data": {
      "text/plain": [
       "False"
      ]
     },
     "execution_count": 154,
     "metadata": {},
     "output_type": "execute_result"
    }
   ],
   "source": [
    "#patient_data[\"Pseudonym\"].duplicated().any()"
   ]
  },
  {
   "cell_type": "code",
   "execution_count": 26,
   "id": "f424202a-2de6-4be0-b8ee-4242c1402a61",
   "metadata": {},
   "outputs": [
    {
     "name": "stdout",
     "output_type": "stream",
     "text": [
      "8013\n"
     ]
    },
    {
     "name": "stderr",
     "output_type": "stream",
     "text": [
      "/var/folders/g0/jjrpnby54x7gpjctb3x9clhw0000gp/T/ipykernel_80499/592941103.py:29: FutureWarning:\n",
      "\n",
      "The behavior of DataFrame concatenation with empty or all-NA entries is deprecated. In a future version, this will no longer exclude empty or all-NA columns when determining the result dtypes. To retain the old behavior, exclude the relevant entries before the concat operation.\n",
      "\n"
     ]
    },
    {
     "name": "stdout",
     "output_type": "stream",
     "text": [
      "Patient is not compatible with p1_l = p1_c, setting qL to 0.9999 and finding p1_l\n"
     ]
    },
    {
     "name": "stderr",
     "output_type": "stream",
     "text": [
      "/var/folders/g0/jjrpnby54x7gpjctb3x9clhw0000gp/T/ipykernel_80499/2188946461.py:10: FutureWarning:\n",
      "\n",
      "The behavior of DataFrame concatenation with empty or all-NA entries is deprecated. In a future version, this will no longer exclude empty or all-NA columns when determining the result dtypes. To retain the old behavior, exclude the relevant entries before the concat operation.\n",
      "\n",
      "/var/folders/g0/jjrpnby54x7gpjctb3x9clhw0000gp/T/ipykernel_80499/592941103.py:29: FutureWarning:\n",
      "\n",
      "The behavior of DataFrame concatenation with empty or all-NA entries is deprecated. In a future version, this will no longer exclude empty or all-NA columns when determining the result dtypes. To retain the old behavior, exclude the relevant entries before the concat operation.\n",
      "\n"
     ]
    },
    {
     "name": "stdout",
     "output_type": "stream",
     "text": [
      "3028\n",
      "Patient is not compatible with p1_l = p1_c, setting qL to 0.9999 and finding p1_l\n",
      "1034\n"
     ]
    },
    {
     "name": "stderr",
     "output_type": "stream",
     "text": [
      "/var/folders/g0/jjrpnby54x7gpjctb3x9clhw0000gp/T/ipykernel_80499/592941103.py:29: FutureWarning:\n",
      "\n",
      "The behavior of DataFrame concatenation with empty or all-NA entries is deprecated. In a future version, this will no longer exclude empty or all-NA columns when determining the result dtypes. To retain the old behavior, exclude the relevant entries before the concat operation.\n",
      "\n"
     ]
    },
    {
     "name": "stdout",
     "output_type": "stream",
     "text": [
      "Patient is not compatible with p1_l = p1_c, setting qL to 0.9999 and finding p1_l\n",
      "4046\n"
     ]
    },
    {
     "name": "stderr",
     "output_type": "stream",
     "text": [
      "/var/folders/g0/jjrpnby54x7gpjctb3x9clhw0000gp/T/ipykernel_80499/592941103.py:29: FutureWarning:\n",
      "\n",
      "The behavior of DataFrame concatenation with empty or all-NA entries is deprecated. In a future version, this will no longer exclude empty or all-NA columns when determining the result dtypes. To retain the old behavior, exclude the relevant entries before the concat operation.\n",
      "\n"
     ]
    },
    {
     "name": "stdout",
     "output_type": "stream",
     "text": [
      "Patient is not compatible with p1_l = p1_c, setting qL to 0.9999 and finding p1_l\n",
      "5055\n"
     ]
    },
    {
     "name": "stderr",
     "output_type": "stream",
     "text": [
      "/var/folders/g0/jjrpnby54x7gpjctb3x9clhw0000gp/T/ipykernel_80499/592941103.py:29: FutureWarning:\n",
      "\n",
      "The behavior of DataFrame concatenation with empty or all-NA entries is deprecated. In a future version, this will no longer exclude empty or all-NA columns when determining the result dtypes. To retain the old behavior, exclude the relevant entries before the concat operation.\n",
      "\n"
     ]
    },
    {
     "name": "stdout",
     "output_type": "stream",
     "text": [
      "Patient is not compatible with p1_l = p1_c, setting qL to 0.9999 and finding p1_l\n",
      "6067\n"
     ]
    },
    {
     "name": "stderr",
     "output_type": "stream",
     "text": [
      "/var/folders/g0/jjrpnby54x7gpjctb3x9clhw0000gp/T/ipykernel_80499/592941103.py:29: FutureWarning:\n",
      "\n",
      "The behavior of DataFrame concatenation with empty or all-NA entries is deprecated. In a future version, this will no longer exclude empty or all-NA columns when determining the result dtypes. To retain the old behavior, exclude the relevant entries before the concat operation.\n",
      "\n"
     ]
    },
    {
     "name": "stdout",
     "output_type": "stream",
     "text": [
      "Patient is not compatible with p1_l = p1_c, setting qL to 0.9999 and finding p1_l\n",
      "6074\n"
     ]
    },
    {
     "name": "stderr",
     "output_type": "stream",
     "text": [
      "/var/folders/g0/jjrpnby54x7gpjctb3x9clhw0000gp/T/ipykernel_80499/592941103.py:29: FutureWarning:\n",
      "\n",
      "The behavior of DataFrame concatenation with empty or all-NA entries is deprecated. In a future version, this will no longer exclude empty or all-NA columns when determining the result dtypes. To retain the old behavior, exclude the relevant entries before the concat operation.\n",
      "\n"
     ]
    },
    {
     "name": "stdout",
     "output_type": "stream",
     "text": [
      "Patient is not compatible with p1_l = p1_c, setting qL to 0.9999 and finding p1_l\n",
      "6086\n"
     ]
    },
    {
     "name": "stderr",
     "output_type": "stream",
     "text": [
      "/var/folders/g0/jjrpnby54x7gpjctb3x9clhw0000gp/T/ipykernel_80499/592941103.py:29: FutureWarning:\n",
      "\n",
      "The behavior of DataFrame concatenation with empty or all-NA entries is deprecated. In a future version, this will no longer exclude empty or all-NA columns when determining the result dtypes. To retain the old behavior, exclude the relevant entries before the concat operation.\n",
      "\n"
     ]
    },
    {
     "name": "stdout",
     "output_type": "stream",
     "text": [
      "Patient is not compatible with p1_l = p1_c, setting qL to 0.9999 and finding p1_l\n",
      "4098\n"
     ]
    },
    {
     "name": "stderr",
     "output_type": "stream",
     "text": [
      "/var/folders/g0/jjrpnby54x7gpjctb3x9clhw0000gp/T/ipykernel_80499/592941103.py:29: FutureWarning:\n",
      "\n",
      "The behavior of DataFrame concatenation with empty or all-NA entries is deprecated. In a future version, this will no longer exclude empty or all-NA columns when determining the result dtypes. To retain the old behavior, exclude the relevant entries before the concat operation.\n",
      "\n"
     ]
    },
    {
     "name": "stdout",
     "output_type": "stream",
     "text": [
      "Patient is not compatible with p1_l = p1_c, setting qL to 0.9999 and finding p1_l\n",
      "3101\n"
     ]
    },
    {
     "name": "stderr",
     "output_type": "stream",
     "text": [
      "/var/folders/g0/jjrpnby54x7gpjctb3x9clhw0000gp/T/ipykernel_80499/592941103.py:29: FutureWarning:\n",
      "\n",
      "The behavior of DataFrame concatenation with empty or all-NA entries is deprecated. In a future version, this will no longer exclude empty or all-NA columns when determining the result dtypes. To retain the old behavior, exclude the relevant entries before the concat operation.\n",
      "\n"
     ]
    },
    {
     "name": "stdout",
     "output_type": "stream",
     "text": [
      "Patient is not compatible with p1_l = p1_c, setting qL to 0.9999 and finding p1_l\n",
      "3114\n"
     ]
    },
    {
     "name": "stderr",
     "output_type": "stream",
     "text": [
      "/var/folders/g0/jjrpnby54x7gpjctb3x9clhw0000gp/T/ipykernel_80499/592941103.py:29: FutureWarning:\n",
      "\n",
      "The behavior of DataFrame concatenation with empty or all-NA entries is deprecated. In a future version, this will no longer exclude empty or all-NA columns when determining the result dtypes. To retain the old behavior, exclude the relevant entries before the concat operation.\n",
      "\n"
     ]
    },
    {
     "name": "stdout",
     "output_type": "stream",
     "text": [
      "Patient is not compatible with p1_l = p1_c, setting qL to 0.9999 and finding p1_l\n",
      "5128\n"
     ]
    },
    {
     "name": "stderr",
     "output_type": "stream",
     "text": [
      "/var/folders/g0/jjrpnby54x7gpjctb3x9clhw0000gp/T/ipykernel_80499/592941103.py:29: FutureWarning:\n",
      "\n",
      "The behavior of DataFrame concatenation with empty or all-NA entries is deprecated. In a future version, this will no longer exclude empty or all-NA columns when determining the result dtypes. To retain the old behavior, exclude the relevant entries before the concat operation.\n",
      "\n"
     ]
    },
    {
     "name": "stdout",
     "output_type": "stream",
     "text": [
      "Patient is not compatible with p1_l = p1_c, setting qL to 0.9999 and finding p1_l\n",
      "4132\n"
     ]
    },
    {
     "name": "stderr",
     "output_type": "stream",
     "text": [
      "/var/folders/g0/jjrpnby54x7gpjctb3x9clhw0000gp/T/ipykernel_80499/592941103.py:29: FutureWarning:\n",
      "\n",
      "The behavior of DataFrame concatenation with empty or all-NA entries is deprecated. In a future version, this will no longer exclude empty or all-NA columns when determining the result dtypes. To retain the old behavior, exclude the relevant entries before the concat operation.\n",
      "\n"
     ]
    },
    {
     "name": "stdout",
     "output_type": "stream",
     "text": [
      "Patient is not compatible with p1_l = p1_c, setting qL to 0.9999 and finding p1_l\n",
      "9145\n"
     ]
    },
    {
     "name": "stderr",
     "output_type": "stream",
     "text": [
      "/var/folders/g0/jjrpnby54x7gpjctb3x9clhw0000gp/T/ipykernel_80499/592941103.py:29: FutureWarning:\n",
      "\n",
      "The behavior of DataFrame concatenation with empty or all-NA entries is deprecated. In a future version, this will no longer exclude empty or all-NA columns when determining the result dtypes. To retain the old behavior, exclude the relevant entries before the concat operation.\n",
      "\n"
     ]
    },
    {
     "name": "stdout",
     "output_type": "stream",
     "text": [
      "Patient is not compatible with p1_l = p1_c, setting qL to 0.9999 and finding p1_l\n",
      "5157\n"
     ]
    },
    {
     "name": "stderr",
     "output_type": "stream",
     "text": [
      "/var/folders/g0/jjrpnby54x7gpjctb3x9clhw0000gp/T/ipykernel_80499/592941103.py:29: FutureWarning:\n",
      "\n",
      "The behavior of DataFrame concatenation with empty or all-NA entries is deprecated. In a future version, this will no longer exclude empty or all-NA columns when determining the result dtypes. To retain the old behavior, exclude the relevant entries before the concat operation.\n",
      "\n"
     ]
    },
    {
     "name": "stdout",
     "output_type": "stream",
     "text": [
      "Patient is not compatible with p1_l = p1_c, setting qL to 0.9999 and finding p1_l\n",
      "5161\n"
     ]
    },
    {
     "name": "stderr",
     "output_type": "stream",
     "text": [
      "/var/folders/g0/jjrpnby54x7gpjctb3x9clhw0000gp/T/ipykernel_80499/592941103.py:29: FutureWarning:\n",
      "\n",
      "The behavior of DataFrame concatenation with empty or all-NA entries is deprecated. In a future version, this will no longer exclude empty or all-NA columns when determining the result dtypes. To retain the old behavior, exclude the relevant entries before the concat operation.\n",
      "\n"
     ]
    },
    {
     "name": "stdout",
     "output_type": "stream",
     "text": [
      "Patient is not compatible with p1_l = p1_c, setting qL to 0.9999 and finding p1_l\n",
      "1175\n"
     ]
    },
    {
     "name": "stderr",
     "output_type": "stream",
     "text": [
      "/var/folders/g0/jjrpnby54x7gpjctb3x9clhw0000gp/T/ipykernel_80499/592941103.py:29: FutureWarning:\n",
      "\n",
      "The behavior of DataFrame concatenation with empty or all-NA entries is deprecated. In a future version, this will no longer exclude empty or all-NA columns when determining the result dtypes. To retain the old behavior, exclude the relevant entries before the concat operation.\n",
      "\n"
     ]
    },
    {
     "name": "stdout",
     "output_type": "stream",
     "text": [
      "Patient is not compatible with p1_l = p1_c, setting qL to 0.9999 and finding p1_l\n",
      "4181\n"
     ]
    },
    {
     "name": "stderr",
     "output_type": "stream",
     "text": [
      "/var/folders/g0/jjrpnby54x7gpjctb3x9clhw0000gp/T/ipykernel_80499/592941103.py:29: FutureWarning:\n",
      "\n",
      "The behavior of DataFrame concatenation with empty or all-NA entries is deprecated. In a future version, this will no longer exclude empty or all-NA columns when determining the result dtypes. To retain the old behavior, exclude the relevant entries before the concat operation.\n",
      "\n"
     ]
    },
    {
     "name": "stdout",
     "output_type": "stream",
     "text": [
      "Patient is not compatible with p1_l = p1_c, setting qL to 0.9999 and finding p1_l\n",
      "8216\n"
     ]
    },
    {
     "name": "stderr",
     "output_type": "stream",
     "text": [
      "/var/folders/g0/jjrpnby54x7gpjctb3x9clhw0000gp/T/ipykernel_80499/592941103.py:29: FutureWarning:\n",
      "\n",
      "The behavior of DataFrame concatenation with empty or all-NA entries is deprecated. In a future version, this will no longer exclude empty or all-NA columns when determining the result dtypes. To retain the old behavior, exclude the relevant entries before the concat operation.\n",
      "\n"
     ]
    },
    {
     "name": "stdout",
     "output_type": "stream",
     "text": [
      "Patient is not compatible with p1_l = p1_c, setting qL to 0.9999 and finding p1_l\n",
      "5224\n"
     ]
    },
    {
     "name": "stderr",
     "output_type": "stream",
     "text": [
      "/var/folders/g0/jjrpnby54x7gpjctb3x9clhw0000gp/T/ipykernel_80499/592941103.py:29: FutureWarning:\n",
      "\n",
      "The behavior of DataFrame concatenation with empty or all-NA entries is deprecated. In a future version, this will no longer exclude empty or all-NA columns when determining the result dtypes. To retain the old behavior, exclude the relevant entries before the concat operation.\n",
      "\n"
     ]
    },
    {
     "name": "stdout",
     "output_type": "stream",
     "text": [
      "Patient is not compatible with p1_l = p1_c, setting qL to 0.9999 and finding p1_l\n",
      "7239\n"
     ]
    },
    {
     "name": "stderr",
     "output_type": "stream",
     "text": [
      "/var/folders/g0/jjrpnby54x7gpjctb3x9clhw0000gp/T/ipykernel_80499/592941103.py:29: FutureWarning:\n",
      "\n",
      "The behavior of DataFrame concatenation with empty or all-NA entries is deprecated. In a future version, this will no longer exclude empty or all-NA columns when determining the result dtypes. To retain the old behavior, exclude the relevant entries before the concat operation.\n",
      "\n"
     ]
    },
    {
     "name": "stdout",
     "output_type": "stream",
     "text": [
      "Patient is not compatible with p1_l = p1_c, setting qL to 0.9999 and finding p1_l\n",
      "8242\n"
     ]
    },
    {
     "name": "stderr",
     "output_type": "stream",
     "text": [
      "/var/folders/g0/jjrpnby54x7gpjctb3x9clhw0000gp/T/ipykernel_80499/592941103.py:29: FutureWarning:\n",
      "\n",
      "The behavior of DataFrame concatenation with empty or all-NA entries is deprecated. In a future version, this will no longer exclude empty or all-NA columns when determining the result dtypes. To retain the old behavior, exclude the relevant entries before the concat operation.\n",
      "\n"
     ]
    },
    {
     "name": "stdout",
     "output_type": "stream",
     "text": [
      "Patient is not compatible with p1_l = p1_c, setting qL to 0.9999 and finding p1_l\n",
      "9250\n"
     ]
    },
    {
     "name": "stderr",
     "output_type": "stream",
     "text": [
      "/var/folders/g0/jjrpnby54x7gpjctb3x9clhw0000gp/T/ipykernel_80499/592941103.py:29: FutureWarning:\n",
      "\n",
      "The behavior of DataFrame concatenation with empty or all-NA entries is deprecated. In a future version, this will no longer exclude empty or all-NA columns when determining the result dtypes. To retain the old behavior, exclude the relevant entries before the concat operation.\n",
      "\n"
     ]
    },
    {
     "name": "stdout",
     "output_type": "stream",
     "text": [
      "Patient is not compatible with p1_l = p1_c, setting qL to 0.9999 and finding p1_l\n",
      "3266\n"
     ]
    },
    {
     "name": "stderr",
     "output_type": "stream",
     "text": [
      "/var/folders/g0/jjrpnby54x7gpjctb3x9clhw0000gp/T/ipykernel_80499/592941103.py:29: FutureWarning:\n",
      "\n",
      "The behavior of DataFrame concatenation with empty or all-NA entries is deprecated. In a future version, this will no longer exclude empty or all-NA columns when determining the result dtypes. To retain the old behavior, exclude the relevant entries before the concat operation.\n",
      "\n"
     ]
    },
    {
     "name": "stdout",
     "output_type": "stream",
     "text": [
      "Patient is not compatible with p1_l = p1_c, setting qL to 0.9999 and finding p1_l\n",
      "5276\n"
     ]
    },
    {
     "name": "stderr",
     "output_type": "stream",
     "text": [
      "/var/folders/g0/jjrpnby54x7gpjctb3x9clhw0000gp/T/ipykernel_80499/592941103.py:29: FutureWarning:\n",
      "\n",
      "The behavior of DataFrame concatenation with empty or all-NA entries is deprecated. In a future version, this will no longer exclude empty or all-NA columns when determining the result dtypes. To retain the old behavior, exclude the relevant entries before the concat operation.\n",
      "\n"
     ]
    },
    {
     "name": "stdout",
     "output_type": "stream",
     "text": [
      "Patient is not compatible with p1_l = p1_c, setting qL to 0.9999 and finding p1_l\n",
      "6290\n"
     ]
    },
    {
     "name": "stderr",
     "output_type": "stream",
     "text": [
      "/var/folders/g0/jjrpnby54x7gpjctb3x9clhw0000gp/T/ipykernel_80499/592941103.py:29: FutureWarning:\n",
      "\n",
      "The behavior of DataFrame concatenation with empty or all-NA entries is deprecated. In a future version, this will no longer exclude empty or all-NA columns when determining the result dtypes. To retain the old behavior, exclude the relevant entries before the concat operation.\n",
      "\n"
     ]
    },
    {
     "name": "stdout",
     "output_type": "stream",
     "text": [
      "Patient is not compatible with p1_l = p1_c, setting qL to 0.9999 and finding p1_l\n",
      "6308\n"
     ]
    },
    {
     "name": "stderr",
     "output_type": "stream",
     "text": [
      "/var/folders/g0/jjrpnby54x7gpjctb3x9clhw0000gp/T/ipykernel_80499/592941103.py:29: FutureWarning:\n",
      "\n",
      "The behavior of DataFrame concatenation with empty or all-NA entries is deprecated. In a future version, this will no longer exclude empty or all-NA columns when determining the result dtypes. To retain the old behavior, exclude the relevant entries before the concat operation.\n",
      "\n"
     ]
    },
    {
     "name": "stdout",
     "output_type": "stream",
     "text": [
      "Patient is not compatible with p1_l = p1_c, setting qL to 0.9999 and finding p1_l\n",
      "3316\n"
     ]
    },
    {
     "name": "stderr",
     "output_type": "stream",
     "text": [
      "/var/folders/g0/jjrpnby54x7gpjctb3x9clhw0000gp/T/ipykernel_80499/592941103.py:29: FutureWarning:\n",
      "\n",
      "The behavior of DataFrame concatenation with empty or all-NA entries is deprecated. In a future version, this will no longer exclude empty or all-NA columns when determining the result dtypes. To retain the old behavior, exclude the relevant entries before the concat operation.\n",
      "\n"
     ]
    },
    {
     "name": "stdout",
     "output_type": "stream",
     "text": [
      "Patient is not compatible with p1_l = p1_c, setting qL to 0.9999 and finding p1_l\n",
      "8322\n"
     ]
    },
    {
     "name": "stderr",
     "output_type": "stream",
     "text": [
      "/var/folders/g0/jjrpnby54x7gpjctb3x9clhw0000gp/T/ipykernel_80499/592941103.py:29: FutureWarning:\n",
      "\n",
      "The behavior of DataFrame concatenation with empty or all-NA entries is deprecated. In a future version, this will no longer exclude empty or all-NA columns when determining the result dtypes. To retain the old behavior, exclude the relevant entries before the concat operation.\n",
      "\n"
     ]
    },
    {
     "name": "stdout",
     "output_type": "stream",
     "text": [
      "Patient is not compatible with p1_l = p1_c, setting qL to 0.9999 and finding p1_l\n",
      "3339\n"
     ]
    },
    {
     "name": "stderr",
     "output_type": "stream",
     "text": [
      "/var/folders/g0/jjrpnby54x7gpjctb3x9clhw0000gp/T/ipykernel_80499/592941103.py:29: FutureWarning:\n",
      "\n",
      "The behavior of DataFrame concatenation with empty or all-NA entries is deprecated. In a future version, this will no longer exclude empty or all-NA columns when determining the result dtypes. To retain the old behavior, exclude the relevant entries before the concat operation.\n",
      "\n"
     ]
    },
    {
     "name": "stdout",
     "output_type": "stream",
     "text": [
      "Patient is not compatible with p1_l = p1_c, setting qL to 0.9999 and finding p1_l\n",
      "3347\n"
     ]
    },
    {
     "name": "stderr",
     "output_type": "stream",
     "text": [
      "/var/folders/g0/jjrpnby54x7gpjctb3x9clhw0000gp/T/ipykernel_80499/592941103.py:29: FutureWarning:\n",
      "\n",
      "The behavior of DataFrame concatenation with empty or all-NA entries is deprecated. In a future version, this will no longer exclude empty or all-NA columns when determining the result dtypes. To retain the old behavior, exclude the relevant entries before the concat operation.\n",
      "\n"
     ]
    },
    {
     "name": "stdout",
     "output_type": "stream",
     "text": [
      "Patient is not compatible with p1_l = p1_c, setting qL to 0.9999 and finding p1_l\n",
      "9357\n"
     ]
    },
    {
     "name": "stderr",
     "output_type": "stream",
     "text": [
      "/var/folders/g0/jjrpnby54x7gpjctb3x9clhw0000gp/T/ipykernel_80499/592941103.py:29: FutureWarning:\n",
      "\n",
      "The behavior of DataFrame concatenation with empty or all-NA entries is deprecated. In a future version, this will no longer exclude empty or all-NA columns when determining the result dtypes. To retain the old behavior, exclude the relevant entries before the concat operation.\n",
      "\n"
     ]
    },
    {
     "name": "stdout",
     "output_type": "stream",
     "text": [
      "Patient is not compatible with p1_l = p1_c, setting qL to 0.9999 and finding p1_l\n",
      "3360\n"
     ]
    },
    {
     "name": "stderr",
     "output_type": "stream",
     "text": [
      "/var/folders/g0/jjrpnby54x7gpjctb3x9clhw0000gp/T/ipykernel_80499/592941103.py:29: FutureWarning:\n",
      "\n",
      "The behavior of DataFrame concatenation with empty or all-NA entries is deprecated. In a future version, this will no longer exclude empty or all-NA columns when determining the result dtypes. To retain the old behavior, exclude the relevant entries before the concat operation.\n",
      "\n"
     ]
    },
    {
     "name": "stdout",
     "output_type": "stream",
     "text": [
      "Patient is not compatible with p1_l = p1_c, setting qL to 0.9999 and finding p1_l\n",
      "6374\n"
     ]
    },
    {
     "name": "stderr",
     "output_type": "stream",
     "text": [
      "/var/folders/g0/jjrpnby54x7gpjctb3x9clhw0000gp/T/ipykernel_80499/592941103.py:29: FutureWarning:\n",
      "\n",
      "The behavior of DataFrame concatenation with empty or all-NA entries is deprecated. In a future version, this will no longer exclude empty or all-NA columns when determining the result dtypes. To retain the old behavior, exclude the relevant entries before the concat operation.\n",
      "\n"
     ]
    },
    {
     "name": "stdout",
     "output_type": "stream",
     "text": [
      "Patient is not compatible with p1_l = p1_c, setting qL to 0.9999 and finding p1_l\n",
      "8386\n"
     ]
    },
    {
     "name": "stderr",
     "output_type": "stream",
     "text": [
      "/var/folders/g0/jjrpnby54x7gpjctb3x9clhw0000gp/T/ipykernel_80499/592941103.py:29: FutureWarning:\n",
      "\n",
      "The behavior of DataFrame concatenation with empty or all-NA entries is deprecated. In a future version, this will no longer exclude empty or all-NA columns when determining the result dtypes. To retain the old behavior, exclude the relevant entries before the concat operation.\n",
      "\n"
     ]
    },
    {
     "name": "stdout",
     "output_type": "stream",
     "text": [
      "Patient is not compatible with p1_l = p1_c, setting qL to 0.9999 and finding p1_l\n",
      "1393\n"
     ]
    },
    {
     "name": "stderr",
     "output_type": "stream",
     "text": [
      "/var/folders/g0/jjrpnby54x7gpjctb3x9clhw0000gp/T/ipykernel_80499/592941103.py:29: FutureWarning:\n",
      "\n",
      "The behavior of DataFrame concatenation with empty or all-NA entries is deprecated. In a future version, this will no longer exclude empty or all-NA columns when determining the result dtypes. To retain the old behavior, exclude the relevant entries before the concat operation.\n",
      "\n"
     ]
    },
    {
     "name": "stdout",
     "output_type": "stream",
     "text": [
      "Patient is not compatible with p1_l = p1_c, setting qL to 0.9999 and finding p1_l\n",
      "7402\n"
     ]
    },
    {
     "name": "stderr",
     "output_type": "stream",
     "text": [
      "/var/folders/g0/jjrpnby54x7gpjctb3x9clhw0000gp/T/ipykernel_80499/592941103.py:29: FutureWarning:\n",
      "\n",
      "The behavior of DataFrame concatenation with empty or all-NA entries is deprecated. In a future version, this will no longer exclude empty or all-NA columns when determining the result dtypes. To retain the old behavior, exclude the relevant entries before the concat operation.\n",
      "\n"
     ]
    },
    {
     "name": "stdout",
     "output_type": "stream",
     "text": [
      "Patient is not compatible with p1_l = p1_c, setting qL to 0.9999 and finding p1_l\n",
      "6416\n"
     ]
    },
    {
     "name": "stderr",
     "output_type": "stream",
     "text": [
      "/var/folders/g0/jjrpnby54x7gpjctb3x9clhw0000gp/T/ipykernel_80499/592941103.py:29: FutureWarning:\n",
      "\n",
      "The behavior of DataFrame concatenation with empty or all-NA entries is deprecated. In a future version, this will no longer exclude empty or all-NA columns when determining the result dtypes. To retain the old behavior, exclude the relevant entries before the concat operation.\n",
      "\n"
     ]
    },
    {
     "name": "stdout",
     "output_type": "stream",
     "text": [
      "Patient is not compatible with p1_l = p1_c, setting qL to 0.9999 and finding p1_l\n",
      "9426\n"
     ]
    },
    {
     "name": "stderr",
     "output_type": "stream",
     "text": [
      "/var/folders/g0/jjrpnby54x7gpjctb3x9clhw0000gp/T/ipykernel_80499/592941103.py:29: FutureWarning:\n",
      "\n",
      "The behavior of DataFrame concatenation with empty or all-NA entries is deprecated. In a future version, this will no longer exclude empty or all-NA columns when determining the result dtypes. To retain the old behavior, exclude the relevant entries before the concat operation.\n",
      "\n"
     ]
    },
    {
     "name": "stdout",
     "output_type": "stream",
     "text": [
      "Patient is not compatible with p1_l = p1_c, setting qL to 0.9999 and finding p1_l\n",
      "9438\n"
     ]
    },
    {
     "name": "stderr",
     "output_type": "stream",
     "text": [
      "/var/folders/g0/jjrpnby54x7gpjctb3x9clhw0000gp/T/ipykernel_80499/592941103.py:29: FutureWarning:\n",
      "\n",
      "The behavior of DataFrame concatenation with empty or all-NA entries is deprecated. In a future version, this will no longer exclude empty or all-NA columns when determining the result dtypes. To retain the old behavior, exclude the relevant entries before the concat operation.\n",
      "\n"
     ]
    },
    {
     "name": "stdout",
     "output_type": "stream",
     "text": [
      "Patient is not compatible with p1_l = p1_c, setting qL to 0.9999 and finding p1_l\n",
      "3447\n"
     ]
    },
    {
     "name": "stderr",
     "output_type": "stream",
     "text": [
      "/var/folders/g0/jjrpnby54x7gpjctb3x9clhw0000gp/T/ipykernel_80499/592941103.py:29: FutureWarning:\n",
      "\n",
      "The behavior of DataFrame concatenation with empty or all-NA entries is deprecated. In a future version, this will no longer exclude empty or all-NA columns when determining the result dtypes. To retain the old behavior, exclude the relevant entries before the concat operation.\n",
      "\n"
     ]
    },
    {
     "name": "stdout",
     "output_type": "stream",
     "text": [
      "Patient is not compatible with p1_l = p1_c, setting qL to 0.9999 and finding p1_l\n",
      "6450\n"
     ]
    },
    {
     "name": "stderr",
     "output_type": "stream",
     "text": [
      "/var/folders/g0/jjrpnby54x7gpjctb3x9clhw0000gp/T/ipykernel_80499/592941103.py:29: FutureWarning:\n",
      "\n",
      "The behavior of DataFrame concatenation with empty or all-NA entries is deprecated. In a future version, this will no longer exclude empty or all-NA columns when determining the result dtypes. To retain the old behavior, exclude the relevant entries before the concat operation.\n",
      "\n"
     ]
    },
    {
     "name": "stdout",
     "output_type": "stream",
     "text": [
      "Patient is not compatible with p1_l = p1_c, setting qL to 0.9999 and finding p1_l\n",
      "2467\n"
     ]
    },
    {
     "name": "stderr",
     "output_type": "stream",
     "text": [
      "/var/folders/g0/jjrpnby54x7gpjctb3x9clhw0000gp/T/ipykernel_80499/592941103.py:29: FutureWarning:\n",
      "\n",
      "The behavior of DataFrame concatenation with empty or all-NA entries is deprecated. In a future version, this will no longer exclude empty or all-NA columns when determining the result dtypes. To retain the old behavior, exclude the relevant entries before the concat operation.\n",
      "\n"
     ]
    },
    {
     "name": "stdout",
     "output_type": "stream",
     "text": [
      "Patient is not compatible with p1_l = p1_c, setting qL to 0.9999 and finding p1_l\n",
      "5478\n"
     ]
    },
    {
     "name": "stderr",
     "output_type": "stream",
     "text": [
      "/var/folders/g0/jjrpnby54x7gpjctb3x9clhw0000gp/T/ipykernel_80499/592941103.py:29: FutureWarning:\n",
      "\n",
      "The behavior of DataFrame concatenation with empty or all-NA entries is deprecated. In a future version, this will no longer exclude empty or all-NA columns when determining the result dtypes. To retain the old behavior, exclude the relevant entries before the concat operation.\n",
      "\n"
     ]
    },
    {
     "name": "stdout",
     "output_type": "stream",
     "text": [
      "Patient is not compatible with p1_l = p1_c, setting qL to 0.9999 and finding p1_l\n",
      "4482\n"
     ]
    },
    {
     "name": "stderr",
     "output_type": "stream",
     "text": [
      "/var/folders/g0/jjrpnby54x7gpjctb3x9clhw0000gp/T/ipykernel_80499/592941103.py:29: FutureWarning:\n",
      "\n",
      "The behavior of DataFrame concatenation with empty or all-NA entries is deprecated. In a future version, this will no longer exclude empty or all-NA columns when determining the result dtypes. To retain the old behavior, exclude the relevant entries before the concat operation.\n",
      "\n"
     ]
    },
    {
     "name": "stdout",
     "output_type": "stream",
     "text": [
      "Patient is not compatible with p1_l = p1_c, setting qL to 0.9999 and finding p1_l\n",
      "6495\n"
     ]
    },
    {
     "name": "stderr",
     "output_type": "stream",
     "text": [
      "/var/folders/g0/jjrpnby54x7gpjctb3x9clhw0000gp/T/ipykernel_80499/592941103.py:29: FutureWarning:\n",
      "\n",
      "The behavior of DataFrame concatenation with empty or all-NA entries is deprecated. In a future version, this will no longer exclude empty or all-NA columns when determining the result dtypes. To retain the old behavior, exclude the relevant entries before the concat operation.\n",
      "\n"
     ]
    },
    {
     "name": "stdout",
     "output_type": "stream",
     "text": [
      "Patient is not compatible with p1_l = p1_c, setting qL to 0.9999 and finding p1_l\n",
      "3500\n"
     ]
    },
    {
     "name": "stderr",
     "output_type": "stream",
     "text": [
      "/var/folders/g0/jjrpnby54x7gpjctb3x9clhw0000gp/T/ipykernel_80499/592941103.py:29: FutureWarning:\n",
      "\n",
      "The behavior of DataFrame concatenation with empty or all-NA entries is deprecated. In a future version, this will no longer exclude empty or all-NA columns when determining the result dtypes. To retain the old behavior, exclude the relevant entries before the concat operation.\n",
      "\n"
     ]
    },
    {
     "name": "stdout",
     "output_type": "stream",
     "text": [
      "Patient is not compatible with p1_l = p1_c, setting qL to 0.9999 and finding p1_l\n",
      "8519\n"
     ]
    },
    {
     "name": "stderr",
     "output_type": "stream",
     "text": [
      "/var/folders/g0/jjrpnby54x7gpjctb3x9clhw0000gp/T/ipykernel_80499/592941103.py:29: FutureWarning:\n",
      "\n",
      "The behavior of DataFrame concatenation with empty or all-NA entries is deprecated. In a future version, this will no longer exclude empty or all-NA columns when determining the result dtypes. To retain the old behavior, exclude the relevant entries before the concat operation.\n",
      "\n"
     ]
    },
    {
     "name": "stdout",
     "output_type": "stream",
     "text": [
      "Patient is not compatible with p1_l = p1_c, setting qL to 0.9999 and finding p1_l\n",
      "4523\n"
     ]
    },
    {
     "name": "stderr",
     "output_type": "stream",
     "text": [
      "/var/folders/g0/jjrpnby54x7gpjctb3x9clhw0000gp/T/ipykernel_80499/592941103.py:29: FutureWarning:\n",
      "\n",
      "The behavior of DataFrame concatenation with empty or all-NA entries is deprecated. In a future version, this will no longer exclude empty or all-NA columns when determining the result dtypes. To retain the old behavior, exclude the relevant entries before the concat operation.\n",
      "\n"
     ]
    },
    {
     "name": "stdout",
     "output_type": "stream",
     "text": [
      "Patient is not compatible with p1_l = p1_c, setting qL to 0.9999 and finding p1_l\n",
      "7537\n"
     ]
    },
    {
     "name": "stderr",
     "output_type": "stream",
     "text": [
      "/var/folders/g0/jjrpnby54x7gpjctb3x9clhw0000gp/T/ipykernel_80499/592941103.py:29: FutureWarning:\n",
      "\n",
      "The behavior of DataFrame concatenation with empty or all-NA entries is deprecated. In a future version, this will no longer exclude empty or all-NA columns when determining the result dtypes. To retain the old behavior, exclude the relevant entries before the concat operation.\n",
      "\n"
     ]
    },
    {
     "name": "stdout",
     "output_type": "stream",
     "text": [
      "Patient is not compatible with p1_l = p1_c, setting qL to 0.9999 and finding p1_l\n",
      "2543\n"
     ]
    },
    {
     "name": "stderr",
     "output_type": "stream",
     "text": [
      "/var/folders/g0/jjrpnby54x7gpjctb3x9clhw0000gp/T/ipykernel_80499/592941103.py:29: FutureWarning:\n",
      "\n",
      "The behavior of DataFrame concatenation with empty or all-NA entries is deprecated. In a future version, this will no longer exclude empty or all-NA columns when determining the result dtypes. To retain the old behavior, exclude the relevant entries before the concat operation.\n",
      "\n"
     ]
    },
    {
     "name": "stdout",
     "output_type": "stream",
     "text": [
      "Patient is not compatible with p1_l = p1_c, setting qL to 0.9999 and finding p1_l\n",
      "9553\n"
     ]
    },
    {
     "name": "stderr",
     "output_type": "stream",
     "text": [
      "/var/folders/g0/jjrpnby54x7gpjctb3x9clhw0000gp/T/ipykernel_80499/592941103.py:29: FutureWarning:\n",
      "\n",
      "The behavior of DataFrame concatenation with empty or all-NA entries is deprecated. In a future version, this will no longer exclude empty or all-NA columns when determining the result dtypes. To retain the old behavior, exclude the relevant entries before the concat operation.\n",
      "\n"
     ]
    },
    {
     "name": "stdout",
     "output_type": "stream",
     "text": [
      "Patient is not compatible with p1_l = p1_c, setting qL to 0.9999 and finding p1_l\n",
      "5568\n"
     ]
    },
    {
     "name": "stderr",
     "output_type": "stream",
     "text": [
      "/var/folders/g0/jjrpnby54x7gpjctb3x9clhw0000gp/T/ipykernel_80499/592941103.py:29: FutureWarning:\n",
      "\n",
      "The behavior of DataFrame concatenation with empty or all-NA entries is deprecated. In a future version, this will no longer exclude empty or all-NA columns when determining the result dtypes. To retain the old behavior, exclude the relevant entries before the concat operation.\n",
      "\n"
     ]
    },
    {
     "name": "stdout",
     "output_type": "stream",
     "text": [
      "Patient is not compatible with p1_l = p1_c, setting qL to 0.9999 and finding p1_l\n",
      "8574\n"
     ]
    },
    {
     "name": "stderr",
     "output_type": "stream",
     "text": [
      "/var/folders/g0/jjrpnby54x7gpjctb3x9clhw0000gp/T/ipykernel_80499/592941103.py:29: FutureWarning:\n",
      "\n",
      "The behavior of DataFrame concatenation with empty or all-NA entries is deprecated. In a future version, this will no longer exclude empty or all-NA columns when determining the result dtypes. To retain the old behavior, exclude the relevant entries before the concat operation.\n",
      "\n"
     ]
    },
    {
     "name": "stdout",
     "output_type": "stream",
     "text": [
      "Patient is not compatible with p1_l = p1_c, setting qL to 0.9999 and finding p1_l\n",
      "5583\n"
     ]
    },
    {
     "name": "stderr",
     "output_type": "stream",
     "text": [
      "/var/folders/g0/jjrpnby54x7gpjctb3x9clhw0000gp/T/ipykernel_80499/592941103.py:29: FutureWarning:\n",
      "\n",
      "The behavior of DataFrame concatenation with empty or all-NA entries is deprecated. In a future version, this will no longer exclude empty or all-NA columns when determining the result dtypes. To retain the old behavior, exclude the relevant entries before the concat operation.\n",
      "\n"
     ]
    },
    {
     "name": "stdout",
     "output_type": "stream",
     "text": [
      "Patient is not compatible with p1_l = p1_c, setting qL to 0.9999 and finding p1_l\n",
      "8590\n"
     ]
    },
    {
     "name": "stderr",
     "output_type": "stream",
     "text": [
      "/var/folders/g0/jjrpnby54x7gpjctb3x9clhw0000gp/T/ipykernel_80499/592941103.py:29: FutureWarning:\n",
      "\n",
      "The behavior of DataFrame concatenation with empty or all-NA entries is deprecated. In a future version, this will no longer exclude empty or all-NA columns when determining the result dtypes. To retain the old behavior, exclude the relevant entries before the concat operation.\n",
      "\n"
     ]
    },
    {
     "name": "stdout",
     "output_type": "stream",
     "text": [
      "Patient is not compatible with p1_l = p1_c, setting qL to 0.9999 and finding p1_l\n",
      "3603\n"
     ]
    },
    {
     "name": "stderr",
     "output_type": "stream",
     "text": [
      "/var/folders/g0/jjrpnby54x7gpjctb3x9clhw0000gp/T/ipykernel_80499/592941103.py:29: FutureWarning:\n",
      "\n",
      "The behavior of DataFrame concatenation with empty or all-NA entries is deprecated. In a future version, this will no longer exclude empty or all-NA columns when determining the result dtypes. To retain the old behavior, exclude the relevant entries before the concat operation.\n",
      "\n"
     ]
    },
    {
     "name": "stdout",
     "output_type": "stream",
     "text": [
      "Patient is not compatible with p1_l = p1_c, setting qL to 0.9999 and finding p1_l\n",
      "7618\n"
     ]
    },
    {
     "name": "stderr",
     "output_type": "stream",
     "text": [
      "/var/folders/g0/jjrpnby54x7gpjctb3x9clhw0000gp/T/ipykernel_80499/592941103.py:29: FutureWarning:\n",
      "\n",
      "The behavior of DataFrame concatenation with empty or all-NA entries is deprecated. In a future version, this will no longer exclude empty or all-NA columns when determining the result dtypes. To retain the old behavior, exclude the relevant entries before the concat operation.\n",
      "\n"
     ]
    },
    {
     "name": "stdout",
     "output_type": "stream",
     "text": [
      "Patient is not compatible with p1_l = p1_c, setting qL to 0.9999 and finding p1_l\n",
      "3623\n"
     ]
    },
    {
     "name": "stderr",
     "output_type": "stream",
     "text": [
      "/var/folders/g0/jjrpnby54x7gpjctb3x9clhw0000gp/T/ipykernel_80499/592941103.py:29: FutureWarning:\n",
      "\n",
      "The behavior of DataFrame concatenation with empty or all-NA entries is deprecated. In a future version, this will no longer exclude empty or all-NA columns when determining the result dtypes. To retain the old behavior, exclude the relevant entries before the concat operation.\n",
      "\n"
     ]
    },
    {
     "name": "stdout",
     "output_type": "stream",
     "text": [
      "Patient is not compatible with p1_l = p1_c, setting qL to 0.9999 and finding p1_l\n",
      "3631\n"
     ]
    },
    {
     "name": "stderr",
     "output_type": "stream",
     "text": [
      "/var/folders/g0/jjrpnby54x7gpjctb3x9clhw0000gp/T/ipykernel_80499/592941103.py:29: FutureWarning:\n",
      "\n",
      "The behavior of DataFrame concatenation with empty or all-NA entries is deprecated. In a future version, this will no longer exclude empty or all-NA columns when determining the result dtypes. To retain the old behavior, exclude the relevant entries before the concat operation.\n",
      "\n"
     ]
    },
    {
     "name": "stdout",
     "output_type": "stream",
     "text": [
      "Patient is not compatible with p1_l = p1_c, setting qL to 0.9999 and finding p1_l\n",
      "7643\n"
     ]
    },
    {
     "name": "stderr",
     "output_type": "stream",
     "text": [
      "/var/folders/g0/jjrpnby54x7gpjctb3x9clhw0000gp/T/ipykernel_80499/592941103.py:29: FutureWarning:\n",
      "\n",
      "The behavior of DataFrame concatenation with empty or all-NA entries is deprecated. In a future version, this will no longer exclude empty or all-NA columns when determining the result dtypes. To retain the old behavior, exclude the relevant entries before the concat operation.\n",
      "\n"
     ]
    },
    {
     "name": "stdout",
     "output_type": "stream",
     "text": [
      "Patient is not compatible with p1_l = p1_c, setting qL to 0.9999 and finding p1_l\n",
      "3652\n"
     ]
    },
    {
     "name": "stderr",
     "output_type": "stream",
     "text": [
      "/var/folders/g0/jjrpnby54x7gpjctb3x9clhw0000gp/T/ipykernel_80499/592941103.py:29: FutureWarning:\n",
      "\n",
      "The behavior of DataFrame concatenation with empty or all-NA entries is deprecated. In a future version, this will no longer exclude empty or all-NA columns when determining the result dtypes. To retain the old behavior, exclude the relevant entries before the concat operation.\n",
      "\n"
     ]
    },
    {
     "name": "stdout",
     "output_type": "stream",
     "text": [
      "Patient is not compatible with p1_l = p1_c, setting qL to 0.9999 and finding p1_l\n",
      "1666\n"
     ]
    },
    {
     "name": "stderr",
     "output_type": "stream",
     "text": [
      "/var/folders/g0/jjrpnby54x7gpjctb3x9clhw0000gp/T/ipykernel_80499/592941103.py:29: FutureWarning:\n",
      "\n",
      "The behavior of DataFrame concatenation with empty or all-NA entries is deprecated. In a future version, this will no longer exclude empty or all-NA columns when determining the result dtypes. To retain the old behavior, exclude the relevant entries before the concat operation.\n",
      "\n"
     ]
    },
    {
     "name": "stdout",
     "output_type": "stream",
     "text": [
      "Patient is not compatible with p1_l = p1_c, setting qL to 0.9999 and finding p1_l\n",
      "1670\n"
     ]
    },
    {
     "name": "stderr",
     "output_type": "stream",
     "text": [
      "/var/folders/g0/jjrpnby54x7gpjctb3x9clhw0000gp/T/ipykernel_80499/592941103.py:29: FutureWarning:\n",
      "\n",
      "The behavior of DataFrame concatenation with empty or all-NA entries is deprecated. In a future version, this will no longer exclude empty or all-NA columns when determining the result dtypes. To retain the old behavior, exclude the relevant entries before the concat operation.\n",
      "\n"
     ]
    },
    {
     "name": "stdout",
     "output_type": "stream",
     "text": [
      "Patient is not compatible with p1_l = p1_c, setting qL to 0.9999 and finding p1_l\n",
      "7687\n"
     ]
    },
    {
     "name": "stderr",
     "output_type": "stream",
     "text": [
      "/var/folders/g0/jjrpnby54x7gpjctb3x9clhw0000gp/T/ipykernel_80499/592941103.py:29: FutureWarning:\n",
      "\n",
      "The behavior of DataFrame concatenation with empty or all-NA entries is deprecated. In a future version, this will no longer exclude empty or all-NA columns when determining the result dtypes. To retain the old behavior, exclude the relevant entries before the concat operation.\n",
      "\n"
     ]
    },
    {
     "name": "stdout",
     "output_type": "stream",
     "text": [
      "Patient is not compatible with p1_l = p1_c, setting qL to 0.9999 and finding p1_l\n",
      "2692\n"
     ]
    },
    {
     "name": "stderr",
     "output_type": "stream",
     "text": [
      "/var/folders/g0/jjrpnby54x7gpjctb3x9clhw0000gp/T/ipykernel_80499/592941103.py:29: FutureWarning:\n",
      "\n",
      "The behavior of DataFrame concatenation with empty or all-NA entries is deprecated. In a future version, this will no longer exclude empty or all-NA columns when determining the result dtypes. To retain the old behavior, exclude the relevant entries before the concat operation.\n",
      "\n"
     ]
    },
    {
     "name": "stdout",
     "output_type": "stream",
     "text": [
      "Patient is not compatible with p1_l = p1_c, setting qL to 0.9999 and finding p1_l\n",
      "6700\n"
     ]
    },
    {
     "name": "stderr",
     "output_type": "stream",
     "text": [
      "/var/folders/g0/jjrpnby54x7gpjctb3x9clhw0000gp/T/ipykernel_80499/592941103.py:29: FutureWarning:\n",
      "\n",
      "The behavior of DataFrame concatenation with empty or all-NA entries is deprecated. In a future version, this will no longer exclude empty or all-NA columns when determining the result dtypes. To retain the old behavior, exclude the relevant entries before the concat operation.\n",
      "\n"
     ]
    },
    {
     "name": "stdout",
     "output_type": "stream",
     "text": [
      "Patient is not compatible with p1_l = p1_c, setting qL to 0.9999 and finding p1_l\n",
      "3717\n"
     ]
    },
    {
     "name": "stderr",
     "output_type": "stream",
     "text": [
      "/var/folders/g0/jjrpnby54x7gpjctb3x9clhw0000gp/T/ipykernel_80499/592941103.py:29: FutureWarning:\n",
      "\n",
      "The behavior of DataFrame concatenation with empty or all-NA entries is deprecated. In a future version, this will no longer exclude empty or all-NA columns when determining the result dtypes. To retain the old behavior, exclude the relevant entries before the concat operation.\n",
      "\n"
     ]
    },
    {
     "name": "stdout",
     "output_type": "stream",
     "text": [
      "Patient is not compatible with p1_l = p1_c, setting qL to 0.9999 and finding p1_l\n",
      "8725\n"
     ]
    },
    {
     "name": "stderr",
     "output_type": "stream",
     "text": [
      "/var/folders/g0/jjrpnby54x7gpjctb3x9clhw0000gp/T/ipykernel_80499/592941103.py:29: FutureWarning:\n",
      "\n",
      "The behavior of DataFrame concatenation with empty or all-NA entries is deprecated. In a future version, this will no longer exclude empty or all-NA columns when determining the result dtypes. To retain the old behavior, exclude the relevant entries before the concat operation.\n",
      "\n"
     ]
    },
    {
     "name": "stdout",
     "output_type": "stream",
     "text": [
      "Patient is not compatible with p1_l = p1_c, setting qL to 0.9999 and finding p1_l\n",
      "6735\n"
     ]
    },
    {
     "name": "stderr",
     "output_type": "stream",
     "text": [
      "/var/folders/g0/jjrpnby54x7gpjctb3x9clhw0000gp/T/ipykernel_80499/592941103.py:29: FutureWarning:\n",
      "\n",
      "The behavior of DataFrame concatenation with empty or all-NA entries is deprecated. In a future version, this will no longer exclude empty or all-NA columns when determining the result dtypes. To retain the old behavior, exclude the relevant entries before the concat operation.\n",
      "\n"
     ]
    },
    {
     "name": "stdout",
     "output_type": "stream",
     "text": [
      "Patient is not compatible with p1_l = p1_c, setting qL to 0.9999 and finding p1_l\n",
      "9744\n"
     ]
    },
    {
     "name": "stderr",
     "output_type": "stream",
     "text": [
      "/var/folders/g0/jjrpnby54x7gpjctb3x9clhw0000gp/T/ipykernel_80499/592941103.py:29: FutureWarning:\n",
      "\n",
      "The behavior of DataFrame concatenation with empty or all-NA entries is deprecated. In a future version, this will no longer exclude empty or all-NA columns when determining the result dtypes. To retain the old behavior, exclude the relevant entries before the concat operation.\n",
      "\n"
     ]
    },
    {
     "name": "stdout",
     "output_type": "stream",
     "text": [
      "Patient is not compatible with p1_l = p1_c, setting qL to 0.9999 and finding p1_l\n",
      "6753\n"
     ]
    },
    {
     "name": "stderr",
     "output_type": "stream",
     "text": [
      "/var/folders/g0/jjrpnby54x7gpjctb3x9clhw0000gp/T/ipykernel_80499/592941103.py:29: FutureWarning:\n",
      "\n",
      "The behavior of DataFrame concatenation with empty or all-NA entries is deprecated. In a future version, this will no longer exclude empty or all-NA columns when determining the result dtypes. To retain the old behavior, exclude the relevant entries before the concat operation.\n",
      "\n"
     ]
    },
    {
     "name": "stdout",
     "output_type": "stream",
     "text": [
      "Patient is not compatible with p1_l = p1_c, setting qL to 0.9999 and finding p1_l\n",
      "7773\n"
     ]
    },
    {
     "name": "stderr",
     "output_type": "stream",
     "text": [
      "/var/folders/g0/jjrpnby54x7gpjctb3x9clhw0000gp/T/ipykernel_80499/592941103.py:29: FutureWarning:\n",
      "\n",
      "The behavior of DataFrame concatenation with empty or all-NA entries is deprecated. In a future version, this will no longer exclude empty or all-NA columns when determining the result dtypes. To retain the old behavior, exclude the relevant entries before the concat operation.\n",
      "\n"
     ]
    },
    {
     "name": "stdout",
     "output_type": "stream",
     "text": [
      "Patient is not compatible with p1_l = p1_c, setting qL to 0.9999 and finding p1_l\n",
      "6780\n"
     ]
    },
    {
     "name": "stderr",
     "output_type": "stream",
     "text": [
      "/var/folders/g0/jjrpnby54x7gpjctb3x9clhw0000gp/T/ipykernel_80499/592941103.py:29: FutureWarning:\n",
      "\n",
      "The behavior of DataFrame concatenation with empty or all-NA entries is deprecated. In a future version, this will no longer exclude empty or all-NA columns when determining the result dtypes. To retain the old behavior, exclude the relevant entries before the concat operation.\n",
      "\n"
     ]
    },
    {
     "name": "stdout",
     "output_type": "stream",
     "text": [
      "Patient is not compatible with p1_l = p1_c, setting qL to 0.9999 and finding p1_l\n",
      "8793\n"
     ]
    },
    {
     "name": "stderr",
     "output_type": "stream",
     "text": [
      "/var/folders/g0/jjrpnby54x7gpjctb3x9clhw0000gp/T/ipykernel_80499/592941103.py:29: FutureWarning:\n",
      "\n",
      "The behavior of DataFrame concatenation with empty or all-NA entries is deprecated. In a future version, this will no longer exclude empty or all-NA columns when determining the result dtypes. To retain the old behavior, exclude the relevant entries before the concat operation.\n",
      "\n"
     ]
    },
    {
     "name": "stdout",
     "output_type": "stream",
     "text": [
      "Patient is not compatible with p1_l = p1_c, setting qL to 0.9999 and finding p1_l\n",
      "6804\n"
     ]
    },
    {
     "name": "stderr",
     "output_type": "stream",
     "text": [
      "/var/folders/g0/jjrpnby54x7gpjctb3x9clhw0000gp/T/ipykernel_80499/592941103.py:29: FutureWarning:\n",
      "\n",
      "The behavior of DataFrame concatenation with empty or all-NA entries is deprecated. In a future version, this will no longer exclude empty or all-NA columns when determining the result dtypes. To retain the old behavior, exclude the relevant entries before the concat operation.\n",
      "\n"
     ]
    },
    {
     "name": "stdout",
     "output_type": "stream",
     "text": [
      "Patient is not compatible with p1_l = p1_c, setting qL to 0.9999 and finding p1_l\n",
      "9823\n"
     ]
    },
    {
     "name": "stderr",
     "output_type": "stream",
     "text": [
      "/var/folders/g0/jjrpnby54x7gpjctb3x9clhw0000gp/T/ipykernel_80499/592941103.py:29: FutureWarning:\n",
      "\n",
      "The behavior of DataFrame concatenation with empty or all-NA entries is deprecated. In a future version, this will no longer exclude empty or all-NA columns when determining the result dtypes. To retain the old behavior, exclude the relevant entries before the concat operation.\n",
      "\n"
     ]
    },
    {
     "name": "stdout",
     "output_type": "stream",
     "text": [
      "Patient is not compatible with p1_l = p1_c, setting qL to 0.9999 and finding p1_l\n",
      "4838\n"
     ]
    },
    {
     "name": "stderr",
     "output_type": "stream",
     "text": [
      "/var/folders/g0/jjrpnby54x7gpjctb3x9clhw0000gp/T/ipykernel_80499/592941103.py:29: FutureWarning:\n",
      "\n",
      "The behavior of DataFrame concatenation with empty or all-NA entries is deprecated. In a future version, this will no longer exclude empty or all-NA columns when determining the result dtypes. To retain the old behavior, exclude the relevant entries before the concat operation.\n",
      "\n"
     ]
    },
    {
     "name": "stdout",
     "output_type": "stream",
     "text": [
      "Patient is not compatible with p1_l = p1_c, setting qL to 0.9999 and finding p1_l\n",
      "3841\n"
     ]
    },
    {
     "name": "stderr",
     "output_type": "stream",
     "text": [
      "/var/folders/g0/jjrpnby54x7gpjctb3x9clhw0000gp/T/ipykernel_80499/592941103.py:29: FutureWarning:\n",
      "\n",
      "The behavior of DataFrame concatenation with empty or all-NA entries is deprecated. In a future version, this will no longer exclude empty or all-NA columns when determining the result dtypes. To retain the old behavior, exclude the relevant entries before the concat operation.\n",
      "\n"
     ]
    },
    {
     "name": "stdout",
     "output_type": "stream",
     "text": [
      "Patient is not compatible with p1_l = p1_c, setting qL to 0.9999 and finding p1_l\n",
      "9851\n"
     ]
    },
    {
     "name": "stderr",
     "output_type": "stream",
     "text": [
      "/var/folders/g0/jjrpnby54x7gpjctb3x9clhw0000gp/T/ipykernel_80499/592941103.py:29: FutureWarning:\n",
      "\n",
      "The behavior of DataFrame concatenation with empty or all-NA entries is deprecated. In a future version, this will no longer exclude empty or all-NA columns when determining the result dtypes. To retain the old behavior, exclude the relevant entries before the concat operation.\n",
      "\n"
     ]
    },
    {
     "name": "stdout",
     "output_type": "stream",
     "text": [
      "Patient is not compatible with p1_l = p1_c, setting qL to 0.9999 and finding p1_l\n",
      "5874\n"
     ]
    },
    {
     "name": "stderr",
     "output_type": "stream",
     "text": [
      "/var/folders/g0/jjrpnby54x7gpjctb3x9clhw0000gp/T/ipykernel_80499/592941103.py:29: FutureWarning:\n",
      "\n",
      "The behavior of DataFrame concatenation with empty or all-NA entries is deprecated. In a future version, this will no longer exclude empty or all-NA columns when determining the result dtypes. To retain the old behavior, exclude the relevant entries before the concat operation.\n",
      "\n"
     ]
    },
    {
     "name": "stdout",
     "output_type": "stream",
     "text": [
      "Patient is not compatible with p1_l = p1_c, setting qL to 0.9999 and finding p1_l\n",
      "2886\n"
     ]
    },
    {
     "name": "stderr",
     "output_type": "stream",
     "text": [
      "/var/folders/g0/jjrpnby54x7gpjctb3x9clhw0000gp/T/ipykernel_80499/592941103.py:29: FutureWarning:\n",
      "\n",
      "The behavior of DataFrame concatenation with empty or all-NA entries is deprecated. In a future version, this will no longer exclude empty or all-NA columns when determining the result dtypes. To retain the old behavior, exclude the relevant entries before the concat operation.\n",
      "\n"
     ]
    },
    {
     "name": "stdout",
     "output_type": "stream",
     "text": [
      "Patient is not compatible with p1_l = p1_c, setting qL to 0.9999 and finding p1_l\n",
      "3895\n"
     ]
    },
    {
     "name": "stderr",
     "output_type": "stream",
     "text": [
      "/var/folders/g0/jjrpnby54x7gpjctb3x9clhw0000gp/T/ipykernel_80499/592941103.py:29: FutureWarning:\n",
      "\n",
      "The behavior of DataFrame concatenation with empty or all-NA entries is deprecated. In a future version, this will no longer exclude empty or all-NA columns when determining the result dtypes. To retain the old behavior, exclude the relevant entries before the concat operation.\n",
      "\n"
     ]
    },
    {
     "name": "stdout",
     "output_type": "stream",
     "text": [
      "Patient is not compatible with p1_l = p1_c, setting qL to 0.9999 and finding p1_l\n",
      "7908\n"
     ]
    },
    {
     "name": "stderr",
     "output_type": "stream",
     "text": [
      "/var/folders/g0/jjrpnby54x7gpjctb3x9clhw0000gp/T/ipykernel_80499/592941103.py:29: FutureWarning:\n",
      "\n",
      "The behavior of DataFrame concatenation with empty or all-NA entries is deprecated. In a future version, this will no longer exclude empty or all-NA columns when determining the result dtypes. To retain the old behavior, exclude the relevant entries before the concat operation.\n",
      "\n"
     ]
    },
    {
     "name": "stdout",
     "output_type": "stream",
     "text": [
      "Patient is not compatible with p1_l = p1_c, setting qL to 0.9999 and finding p1_l\n",
      "8917\n"
     ]
    },
    {
     "name": "stderr",
     "output_type": "stream",
     "text": [
      "/var/folders/g0/jjrpnby54x7gpjctb3x9clhw0000gp/T/ipykernel_80499/592941103.py:29: FutureWarning:\n",
      "\n",
      "The behavior of DataFrame concatenation with empty or all-NA entries is deprecated. In a future version, this will no longer exclude empty or all-NA columns when determining the result dtypes. To retain the old behavior, exclude the relevant entries before the concat operation.\n",
      "\n"
     ]
    },
    {
     "name": "stdout",
     "output_type": "stream",
     "text": [
      "Patient is not compatible with p1_l = p1_c, setting qL to 0.9999 and finding p1_l\n",
      "2927\n"
     ]
    },
    {
     "name": "stderr",
     "output_type": "stream",
     "text": [
      "/var/folders/g0/jjrpnby54x7gpjctb3x9clhw0000gp/T/ipykernel_80499/592941103.py:29: FutureWarning:\n",
      "\n",
      "The behavior of DataFrame concatenation with empty or all-NA entries is deprecated. In a future version, this will no longer exclude empty or all-NA columns when determining the result dtypes. To retain the old behavior, exclude the relevant entries before the concat operation.\n",
      "\n"
     ]
    },
    {
     "name": "stdout",
     "output_type": "stream",
     "text": [
      "Patient is not compatible with p1_l = p1_c, setting qL to 0.9999 and finding p1_l\n",
      "4935\n"
     ]
    },
    {
     "name": "stderr",
     "output_type": "stream",
     "text": [
      "/var/folders/g0/jjrpnby54x7gpjctb3x9clhw0000gp/T/ipykernel_80499/592941103.py:29: FutureWarning:\n",
      "\n",
      "The behavior of DataFrame concatenation with empty or all-NA entries is deprecated. In a future version, this will no longer exclude empty or all-NA columns when determining the result dtypes. To retain the old behavior, exclude the relevant entries before the concat operation.\n",
      "\n"
     ]
    },
    {
     "name": "stdout",
     "output_type": "stream",
     "text": [
      "Patient is not compatible with p1_l = p1_c, setting qL to 0.9999 and finding p1_l\n",
      "3947\n"
     ]
    },
    {
     "name": "stderr",
     "output_type": "stream",
     "text": [
      "/var/folders/g0/jjrpnby54x7gpjctb3x9clhw0000gp/T/ipykernel_80499/592941103.py:29: FutureWarning:\n",
      "\n",
      "The behavior of DataFrame concatenation with empty or all-NA entries is deprecated. In a future version, this will no longer exclude empty or all-NA columns when determining the result dtypes. To retain the old behavior, exclude the relevant entries before the concat operation.\n",
      "\n"
     ]
    },
    {
     "name": "stdout",
     "output_type": "stream",
     "text": [
      "Patient is not compatible with p1_l = p1_c, setting qL to 0.9999 and finding p1_l\n",
      "7954\n"
     ]
    },
    {
     "name": "stderr",
     "output_type": "stream",
     "text": [
      "/var/folders/g0/jjrpnby54x7gpjctb3x9clhw0000gp/T/ipykernel_80499/592941103.py:29: FutureWarning:\n",
      "\n",
      "The behavior of DataFrame concatenation with empty or all-NA entries is deprecated. In a future version, this will no longer exclude empty or all-NA columns when determining the result dtypes. To retain the old behavior, exclude the relevant entries before the concat operation.\n",
      "\n"
     ]
    },
    {
     "name": "stdout",
     "output_type": "stream",
     "text": [
      "Patient is not compatible with p1_l = p1_c, setting qL to 0.9999 and finding p1_l\n",
      "1978\n"
     ]
    },
    {
     "name": "stderr",
     "output_type": "stream",
     "text": [
      "/var/folders/g0/jjrpnby54x7gpjctb3x9clhw0000gp/T/ipykernel_80499/592941103.py:29: FutureWarning:\n",
      "\n",
      "The behavior of DataFrame concatenation with empty or all-NA entries is deprecated. In a future version, this will no longer exclude empty or all-NA columns when determining the result dtypes. To retain the old behavior, exclude the relevant entries before the concat operation.\n",
      "\n"
     ]
    },
    {
     "name": "stdout",
     "output_type": "stream",
     "text": [
      "Patient is not compatible with p1_l = p1_c, setting qL to 0.9999 and finding p1_l\n",
      "4988\n"
     ]
    },
    {
     "name": "stderr",
     "output_type": "stream",
     "text": [
      "/var/folders/g0/jjrpnby54x7gpjctb3x9clhw0000gp/T/ipykernel_80499/592941103.py:29: FutureWarning:\n",
      "\n",
      "The behavior of DataFrame concatenation with empty or all-NA entries is deprecated. In a future version, this will no longer exclude empty or all-NA columns when determining the result dtypes. To retain the old behavior, exclude the relevant entries before the concat operation.\n",
      "\n"
     ]
    },
    {
     "name": "stdout",
     "output_type": "stream",
     "text": [
      "Patient is not compatible with p1_l = p1_c, setting qL to 0.9999 and finding p1_l\n",
      "6991\n"
     ]
    },
    {
     "name": "stderr",
     "output_type": "stream",
     "text": [
      "/var/folders/g0/jjrpnby54x7gpjctb3x9clhw0000gp/T/ipykernel_80499/592941103.py:29: FutureWarning:\n",
      "\n",
      "The behavior of DataFrame concatenation with empty or all-NA entries is deprecated. In a future version, this will no longer exclude empty or all-NA columns when determining the result dtypes. To retain the old behavior, exclude the relevant entries before the concat operation.\n",
      "\n"
     ]
    },
    {
     "name": "stdout",
     "output_type": "stream",
     "text": [
      "Patient is not compatible with p1_l = p1_c, setting qL to 0.9999 and finding p1_l\n",
      "1100\n"
     ]
    },
    {
     "name": "stderr",
     "output_type": "stream",
     "text": [
      "/var/folders/g0/jjrpnby54x7gpjctb3x9clhw0000gp/T/ipykernel_80499/592941103.py:29: FutureWarning:\n",
      "\n",
      "The behavior of DataFrame concatenation with empty or all-NA entries is deprecated. In a future version, this will no longer exclude empty or all-NA columns when determining the result dtypes. To retain the old behavior, exclude the relevant entries before the concat operation.\n",
      "\n"
     ]
    },
    {
     "name": "stdout",
     "output_type": "stream",
     "text": [
      "Patient is not compatible with p1_l = p1_c, setting qL to 0.9999 and finding p1_l\n",
      "2101\n"
     ]
    },
    {
     "name": "stderr",
     "output_type": "stream",
     "text": [
      "/var/folders/g0/jjrpnby54x7gpjctb3x9clhw0000gp/T/ipykernel_80499/592941103.py:29: FutureWarning:\n",
      "\n",
      "The behavior of DataFrame concatenation with empty or all-NA entries is deprecated. In a future version, this will no longer exclude empty or all-NA columns when determining the result dtypes. To retain the old behavior, exclude the relevant entries before the concat operation.\n",
      "\n"
     ]
    },
    {
     "name": "stdout",
     "output_type": "stream",
     "text": [
      "Patient is not compatible with p1_l = p1_c, setting qL to 0.9999 and finding p1_l\n",
      "9102\n"
     ]
    },
    {
     "name": "stderr",
     "output_type": "stream",
     "text": [
      "/var/folders/g0/jjrpnby54x7gpjctb3x9clhw0000gp/T/ipykernel_80499/592941103.py:29: FutureWarning:\n",
      "\n",
      "The behavior of DataFrame concatenation with empty or all-NA entries is deprecated. In a future version, this will no longer exclude empty or all-NA columns when determining the result dtypes. To retain the old behavior, exclude the relevant entries before the concat operation.\n",
      "\n"
     ]
    },
    {
     "name": "stdout",
     "output_type": "stream",
     "text": [
      "Patient is not compatible with p1_l = p1_c, setting qL to 0.9999 and finding p1_l\n",
      "8103\n"
     ]
    },
    {
     "name": "stderr",
     "output_type": "stream",
     "text": [
      "/var/folders/g0/jjrpnby54x7gpjctb3x9clhw0000gp/T/ipykernel_80499/592941103.py:29: FutureWarning:\n",
      "\n",
      "The behavior of DataFrame concatenation with empty or all-NA entries is deprecated. In a future version, this will no longer exclude empty or all-NA columns when determining the result dtypes. To retain the old behavior, exclude the relevant entries before the concat operation.\n",
      "\n"
     ]
    },
    {
     "name": "stdout",
     "output_type": "stream",
     "text": [
      "Patient is not compatible with p1_l = p1_c, setting qL to 0.9999 and finding p1_l\n",
      "2104\n"
     ]
    },
    {
     "name": "stderr",
     "output_type": "stream",
     "text": [
      "/var/folders/g0/jjrpnby54x7gpjctb3x9clhw0000gp/T/ipykernel_80499/592941103.py:29: FutureWarning:\n",
      "\n",
      "The behavior of DataFrame concatenation with empty or all-NA entries is deprecated. In a future version, this will no longer exclude empty or all-NA columns when determining the result dtypes. To retain the old behavior, exclude the relevant entries before the concat operation.\n",
      "\n"
     ]
    },
    {
     "name": "stdout",
     "output_type": "stream",
     "text": [
      "Patient is not compatible with p1_l = p1_c, setting qL to 0.9999 and finding p1_l\n",
      "8106\n"
     ]
    },
    {
     "name": "stderr",
     "output_type": "stream",
     "text": [
      "/var/folders/g0/jjrpnby54x7gpjctb3x9clhw0000gp/T/ipykernel_80499/592941103.py:29: FutureWarning:\n",
      "\n",
      "The behavior of DataFrame concatenation with empty or all-NA entries is deprecated. In a future version, this will no longer exclude empty or all-NA columns when determining the result dtypes. To retain the old behavior, exclude the relevant entries before the concat operation.\n",
      "\n"
     ]
    },
    {
     "name": "stdout",
     "output_type": "stream",
     "text": [
      "Patient is not compatible with p1_l = p1_c, setting qL to 0.9999 and finding p1_l\n",
      "9109\n"
     ]
    },
    {
     "name": "stderr",
     "output_type": "stream",
     "text": [
      "/var/folders/g0/jjrpnby54x7gpjctb3x9clhw0000gp/T/ipykernel_80499/592941103.py:29: FutureWarning:\n",
      "\n",
      "The behavior of DataFrame concatenation with empty or all-NA entries is deprecated. In a future version, this will no longer exclude empty or all-NA columns when determining the result dtypes. To retain the old behavior, exclude the relevant entries before the concat operation.\n",
      "\n"
     ]
    },
    {
     "name": "stdout",
     "output_type": "stream",
     "text": [
      "Patient is not compatible with p1_l = p1_c, setting qL to 0.9999 and finding p1_l\n",
      "3110\n"
     ]
    },
    {
     "name": "stderr",
     "output_type": "stream",
     "text": [
      "/var/folders/g0/jjrpnby54x7gpjctb3x9clhw0000gp/T/ipykernel_80499/592941103.py:29: FutureWarning:\n",
      "\n",
      "The behavior of DataFrame concatenation with empty or all-NA entries is deprecated. In a future version, this will no longer exclude empty or all-NA columns when determining the result dtypes. To retain the old behavior, exclude the relevant entries before the concat operation.\n",
      "\n"
     ]
    },
    {
     "name": "stdout",
     "output_type": "stream",
     "text": [
      "Patient is not compatible with p1_l = p1_c, setting qL to 0.9999 and finding p1_l\n",
      "2111\n"
     ]
    },
    {
     "name": "stderr",
     "output_type": "stream",
     "text": [
      "/var/folders/g0/jjrpnby54x7gpjctb3x9clhw0000gp/T/ipykernel_80499/592941103.py:29: FutureWarning:\n",
      "\n",
      "The behavior of DataFrame concatenation with empty or all-NA entries is deprecated. In a future version, this will no longer exclude empty or all-NA columns when determining the result dtypes. To retain the old behavior, exclude the relevant entries before the concat operation.\n",
      "\n"
     ]
    },
    {
     "name": "stdout",
     "output_type": "stream",
     "text": [
      "Patient is not compatible with p1_l = p1_c, setting qL to 0.9999 and finding p1_l\n"
     ]
    }
   ],
   "source": [
    "all_results=pd.DataFrame(columns=['PatientID','Parameter','Value', 'MinError'])\n",
    "for i in range(len(patient_ids)):\n",
    "    print(patient_ids[i]);\n",
    "    pp=patient_data.iloc[i,:];\n",
    "    patient_id= round(pp['Pseudonym']);\n",
    "    initial_blast_percentage=pp['bm_blasts'];\n",
    "    initial_healthy_cells=pp['healthy_sum'];\n",
    "    try:\n",
    "        df2=run_parameter_scan(patient_id, initial_blast_percentage, initial_healthy_cells)\n",
    "        all_results=pd.concat([all_results, df2], ignore_index=True)\n",
    "    except:\n",
    "        print(\"failed\")\n",
    "\n",
    "\n",
    "    "
   ]
  },
  {
   "cell_type": "code",
   "execution_count": 28,
   "id": "033275ad-2763-4db6-a04b-b4452aa39a9b",
   "metadata": {},
   "outputs": [],
   "source": [
    "all_results.to_csv(\"parameter2_scan.csv\")"
   ]
  },
  {
   "cell_type": "code",
   "execution_count": 242,
   "id": "750076f3-f76b-4083-b607-30890f6638b6",
   "metadata": {},
   "outputs": [
    {
     "data": {
      "text/plain": [
       "'/Users/bahartercan/Desktop/HSC_LSC_final'"
      ]
     },
     "execution_count": 242,
     "metadata": {},
     "output_type": "execute_result"
    }
   ],
   "source": [
    "pwd"
   ]
  },
  {
   "cell_type": "code",
   "execution_count": null,
   "id": "b2d576ef-638f-4294-b3ae-4a0be6eecc56",
   "metadata": {},
   "outputs": [],
   "source": []
  }
 ],
 "metadata": {
  "kernelspec": {
   "display_name": "AML_python3_9",
   "language": "python",
   "name": "aml_python3_9"
  },
  "language_info": {
   "codemirror_mode": {
    "name": "ipython",
    "version": 3
   },
   "file_extension": ".py",
   "mimetype": "text/x-python",
   "name": "python",
   "nbconvert_exporter": "python",
   "pygments_lexer": "ipython3",
   "version": "3.9.20"
  }
 },
 "nbformat": 4,
 "nbformat_minor": 5
}
